{
 "cells": [
  {
   "cell_type": "markdown",
   "metadata": {},
   "source": [
    "The exploratory data analysis presented below is the outcome of the first attempt to understand how the property tax varies depending on which factor, by focusing on one zip code. 11961 in Queens was randomly selected."
   ]
  },
  {
   "cell_type": "code",
   "execution_count": 1,
   "metadata": {},
   "outputs": [],
   "source": [
    "%matplotlib inline"
   ]
  },
  {
   "cell_type": "code",
   "execution_count": 2,
   "metadata": {},
   "outputs": [],
   "source": [
    "import numpy as np\n",
    "import pandas as pd\n",
    "import matplotlib.pyplot as plt\n",
    "import time, math"
   ]
  },
  {
   "cell_type": "markdown",
   "metadata": {},
   "source": [
    "The housing data below for ZIP code 11961 were collected with Zillow API + Zillow webpage scraping."
   ]
  },
  {
   "cell_type": "code",
   "execution_count": 3,
   "metadata": {},
   "outputs": [],
   "source": [
    "df = pd.read_csv('11961_chart_v2C.csv')"
   ]
  },
  {
   "cell_type": "code",
   "execution_count": 4,
   "metadata": {},
   "outputs": [
    {
     "name": "stdout",
     "output_type": "stream",
     "text": [
      "<class 'pandas.core.frame.DataFrame'>\n",
      "RangeIndex: 498 entries, 0 to 497\n",
      "Data columns (total 25 columns):\n",
      "zpid                 498 non-null int64\n",
      "street               498 non-null object\n",
      "latitude             498 non-null float64\n",
      "longitude            498 non-null float64\n",
      "useCode              498 non-null object\n",
      "taxAssessmentYear    484 non-null float64\n",
      "taxAssessment        483 non-null float64\n",
      "yearBuilt            466 non-null float64\n",
      "lotSizeSqFt          472 non-null float64\n",
      "finishedSqFt         439 non-null float64\n",
      "bathrooms            322 non-null float64\n",
      "bedrooms             354 non-null float64\n",
      "totalRooms           110 non-null float64\n",
      "lastSoldDate         497 non-null object\n",
      "zindexValue          498 non-null object\n",
      "lastSoldPrice        497 non-null float64\n",
      "Zestimate            443 non-null float64\n",
      "low                  443 non-null float64\n",
      "high                 443 non-null float64\n",
      "rentZestimate        291 non-null float64\n",
      "propTax              304 non-null float64\n",
      "taxAssessment.1      315 non-null float64\n",
      "estRefiPayment       414 non-null float64\n",
      "remarks              139 non-null object\n",
      "homedetails          498 non-null object\n",
      "dtypes: float64(18), int64(1), object(6)\n",
      "memory usage: 85.6+ KB\n"
     ]
    }
   ],
   "source": [
    "df.info()"
   ]
  },
  {
   "cell_type": "code",
   "execution_count": 5,
   "metadata": {},
   "outputs": [],
   "source": [
    "# remove unnecessary columns\n",
    "del df['homedetails']\n",
    "del df['zindexValue']\n",
    "del df['totalRooms']\n",
    "del df['taxAssessmentYear']\n",
    "del df['zpid']"
   ]
  },
  {
   "cell_type": "code",
   "execution_count": 6,
   "metadata": {},
   "outputs": [],
   "source": [
    "# columns of duplicate name\n",
    "df = df.rename(columns={'taxAssessment.1':'taxAssessed'})"
   ]
  },
  {
   "cell_type": "code",
   "execution_count": 7,
   "metadata": {},
   "outputs": [],
   "source": [
    "# column-wise type casting\n",
    "df = df.fillna(0)\n",
    "df['taxAssessment'] = df['taxAssessment'].astype(int)\n",
    "df['yearBuilt'] = df['yearBuilt'].astype(int)\n",
    "df['lotSizeSqFt'] = df['lotSizeSqFt'].astype(int)\n",
    "df['finishedSqFt'] = df['finishedSqFt'].astype(int)\n",
    "df['bathrooms'] = df['bathrooms'].astype(int)\n",
    "df['bedrooms'] = df['bedrooms'].astype(int)\n",
    "df['lastSoldPrice'] = df['lastSoldPrice'].astype(int)\n",
    "df['Zestimate'] = df['Zestimate'].astype(int)\n",
    "df['low'] = df['low'].astype(int)\n",
    "df['high'] = df['high'].astype(int)\n",
    "df['rentZestimate'] = df['rentZestimate'].astype(int)\n",
    "df['propTax'] = df['propTax'].astype(int)\n",
    "df['taxAssessed'] = df['taxAssessed'].astype(int)\n",
    "df['estRefiPayment'] = df['estRefiPayment'].astype(int)\n",
    "df['lastSoldDate'] = pd.to_datetime(df['lastSoldDate'])"
   ]
  },
  {
   "cell_type": "code",
   "execution_count": 8,
   "metadata": {
    "scrolled": true
   },
   "outputs": [
    {
     "data": {
      "text/html": [
       "<div>\n",
       "<style scoped>\n",
       "    .dataframe tbody tr th:only-of-type {\n",
       "        vertical-align: middle;\n",
       "    }\n",
       "\n",
       "    .dataframe tbody tr th {\n",
       "        vertical-align: top;\n",
       "    }\n",
       "\n",
       "    .dataframe thead th {\n",
       "        text-align: right;\n",
       "    }\n",
       "</style>\n",
       "<table border=\"1\" class=\"dataframe\">\n",
       "  <thead>\n",
       "    <tr style=\"text-align: right;\">\n",
       "      <th></th>\n",
       "      <th>street</th>\n",
       "      <th>latitude</th>\n",
       "      <th>longitude</th>\n",
       "      <th>useCode</th>\n",
       "      <th>taxAssessment</th>\n",
       "      <th>yearBuilt</th>\n",
       "      <th>lotSizeSqFt</th>\n",
       "      <th>finishedSqFt</th>\n",
       "      <th>bathrooms</th>\n",
       "      <th>bedrooms</th>\n",
       "      <th>lastSoldDate</th>\n",
       "      <th>lastSoldPrice</th>\n",
       "      <th>Zestimate</th>\n",
       "      <th>low</th>\n",
       "      <th>high</th>\n",
       "      <th>rentZestimate</th>\n",
       "      <th>propTax</th>\n",
       "      <th>taxAssessed</th>\n",
       "      <th>estRefiPayment</th>\n",
       "      <th>remarks</th>\n",
       "    </tr>\n",
       "  </thead>\n",
       "  <tbody>\n",
       "    <tr>\n",
       "      <th>0</th>\n",
       "      <td>1217 Channing Rd</td>\n",
       "      <td>40.606614</td>\n",
       "      <td>-73.748124</td>\n",
       "      <td>SingleFamily</td>\n",
       "      <td>456000</td>\n",
       "      <td>1930</td>\n",
       "      <td>3750</td>\n",
       "      <td>0</td>\n",
       "      <td>4</td>\n",
       "      <td>6</td>\n",
       "      <td>2018-04-26</td>\n",
       "      <td>560000</td>\n",
       "      <td>649037</td>\n",
       "      <td>610095</td>\n",
       "      <td>681489</td>\n",
       "      <td>2300</td>\n",
       "      <td>4454</td>\n",
       "      <td>24124</td>\n",
       "      <td>2267</td>\n",
       "      <td>0</td>\n",
       "    </tr>\n",
       "    <tr>\n",
       "      <th>1</th>\n",
       "      <td>1366 Chandler St</td>\n",
       "      <td>40.607414</td>\n",
       "      <td>-73.756107</td>\n",
       "      <td>Duplex</td>\n",
       "      <td>364000</td>\n",
       "      <td>1920</td>\n",
       "      <td>3685</td>\n",
       "      <td>2268</td>\n",
       "      <td>0</td>\n",
       "      <td>0</td>\n",
       "      <td>2018-04-19</td>\n",
       "      <td>310000</td>\n",
       "      <td>471338</td>\n",
       "      <td>419491</td>\n",
       "      <td>537325</td>\n",
       "      <td>2290</td>\n",
       "      <td>3279</td>\n",
       "      <td>21644</td>\n",
       "      <td>1255</td>\n",
       "      <td>0</td>\n",
       "    </tr>\n",
       "    <tr>\n",
       "      <th>2</th>\n",
       "      <td>1106 Grassmere Ter</td>\n",
       "      <td>40.604151</td>\n",
       "      <td>-73.756698</td>\n",
       "      <td>SingleFamily</td>\n",
       "      <td>288000</td>\n",
       "      <td>1930</td>\n",
       "      <td>2657</td>\n",
       "      <td>2425</td>\n",
       "      <td>2</td>\n",
       "      <td>4</td>\n",
       "      <td>2018-04-19</td>\n",
       "      <td>365000</td>\n",
       "      <td>413206</td>\n",
       "      <td>392546</td>\n",
       "      <td>433866</td>\n",
       "      <td>2100</td>\n",
       "      <td>3140</td>\n",
       "      <td>17017</td>\n",
       "      <td>1478</td>\n",
       "      <td>0</td>\n",
       "    </tr>\n",
       "    <tr>\n",
       "      <th>3</th>\n",
       "      <td>520 Beach 43rd St</td>\n",
       "      <td>40.599666</td>\n",
       "      <td>-73.774958</td>\n",
       "      <td>SingleFamily</td>\n",
       "      <td>373000</td>\n",
       "      <td>1940</td>\n",
       "      <td>3800</td>\n",
       "      <td>2373</td>\n",
       "      <td>9</td>\n",
       "      <td>3</td>\n",
       "      <td>2018-04-18</td>\n",
       "      <td>225000</td>\n",
       "      <td>426989</td>\n",
       "      <td>298892</td>\n",
       "      <td>486767</td>\n",
       "      <td>0</td>\n",
       "      <td>0</td>\n",
       "      <td>0</td>\n",
       "      <td>928</td>\n",
       "      <td>0</td>\n",
       "    </tr>\n",
       "    <tr>\n",
       "      <th>4</th>\n",
       "      <td>2905 Oceancrest Blvd</td>\n",
       "      <td>40.600126</td>\n",
       "      <td>-73.764546</td>\n",
       "      <td>MultiFamily2To4</td>\n",
       "      <td>474000</td>\n",
       "      <td>1950</td>\n",
       "      <td>3402</td>\n",
       "      <td>2930</td>\n",
       "      <td>2</td>\n",
       "      <td>6</td>\n",
       "      <td>2018-04-17</td>\n",
       "      <td>254900</td>\n",
       "      <td>520127</td>\n",
       "      <td>488919</td>\n",
       "      <td>546133</td>\n",
       "      <td>2200</td>\n",
       "      <td>4042</td>\n",
       "      <td>21910</td>\n",
       "      <td>1032</td>\n",
       "      <td>0</td>\n",
       "    </tr>\n",
       "  </tbody>\n",
       "</table>\n",
       "</div>"
      ],
      "text/plain": [
       "                 street   latitude  longitude          useCode  taxAssessment  \\\n",
       "0      1217 Channing Rd  40.606614 -73.748124     SingleFamily         456000   \n",
       "1      1366 Chandler St  40.607414 -73.756107           Duplex         364000   \n",
       "2    1106 Grassmere Ter  40.604151 -73.756698     SingleFamily         288000   \n",
       "3     520 Beach 43rd St  40.599666 -73.774958     SingleFamily         373000   \n",
       "4  2905 Oceancrest Blvd  40.600126 -73.764546  MultiFamily2To4         474000   \n",
       "\n",
       "   yearBuilt  lotSizeSqFt  finishedSqFt  bathrooms  bedrooms lastSoldDate  \\\n",
       "0       1930         3750             0          4         6   2018-04-26   \n",
       "1       1920         3685          2268          0         0   2018-04-19   \n",
       "2       1930         2657          2425          2         4   2018-04-19   \n",
       "3       1940         3800          2373          9         3   2018-04-18   \n",
       "4       1950         3402          2930          2         6   2018-04-17   \n",
       "\n",
       "   lastSoldPrice  Zestimate     low    high  rentZestimate  propTax  \\\n",
       "0         560000     649037  610095  681489           2300     4454   \n",
       "1         310000     471338  419491  537325           2290     3279   \n",
       "2         365000     413206  392546  433866           2100     3140   \n",
       "3         225000     426989  298892  486767              0        0   \n",
       "4         254900     520127  488919  546133           2200     4042   \n",
       "\n",
       "   taxAssessed  estRefiPayment remarks  \n",
       "0        24124            2267       0  \n",
       "1        21644            1255       0  \n",
       "2        17017            1478       0  \n",
       "3            0             928       0  \n",
       "4        21910            1032       0  "
      ]
     },
     "execution_count": 8,
     "metadata": {},
     "output_type": "execute_result"
    }
   ],
   "source": [
    "df.head()"
   ]
  },
  {
   "cell_type": "code",
   "execution_count": 9,
   "metadata": {},
   "outputs": [],
   "source": [
    "# remove meaningless rows\n",
    "df = df[df['remarks'] == 0]\n",
    "df = df[df['propTax'] != 0]\n",
    "df = df[df['yearBuilt'] != 0]"
   ]
  },
  {
   "cell_type": "code",
   "execution_count": 10,
   "metadata": {},
   "outputs": [
    {
     "data": {
      "text/plain": [
       "(0, 10000)"
      ]
     },
     "execution_count": 10,
     "metadata": {},
     "output_type": "execute_result"
    },
    {
     "data": {
      "image/png": "[encoded data removed]",
      "text/plain": [
       "<matplotlib.figure.Figure at 0xbac6670>"
      ]
     },
     "metadata": {},
     "output_type": "display_data"
    }
   ],
   "source": [
    "plt.scatter(df['taxAssessment'], df['propTax'], s=1)\n",
    "plt.xlabel('tax assessment')\n",
    "plt.ylabel('property tax')\n",
    "plt.xlim(0, 1000000)\n",
    "plt.ylim(0, 10000)"
   ]
  },
  {
   "cell_type": "markdown",
   "metadata": {},
   "source": [
    "Property tax has modest positive correlation with tax assessment, but the variation is much greater than one would expect it should be. Need to cross-check the source and the definition of 'tax assessment'. "
   ]
  },
  {
   "cell_type": "code",
   "execution_count": 11,
   "metadata": {},
   "outputs": [
    {
     "data": {
      "text/plain": [
       "(0, 10000)"
      ]
     },
     "execution_count": 11,
     "metadata": {},
     "output_type": "execute_result"
    },
    {
     "data": {
      "image/png": "[encoded data removed]",
      "text/plain": [
       "<matplotlib.figure.Figure at 0xbac6690>"
      ]
     },
     "metadata": {},
     "output_type": "display_data"
    }
   ],
   "source": [
    "plt.scatter(df['lastSoldPrice'], df['propTax'], s=1)\n",
    "plt.xlabel('last sold price')\n",
    "plt.ylabel('property tax')\n",
    "plt.xlim(0, 1500000)\n",
    "plt.ylim(0, 10000)"
   ]
  },
  {
   "cell_type": "markdown",
   "metadata": {},
   "source": [
    "The last sold price is ideally the best base value based upon which we can assess property tax, since it is officially recorded. But it can't be determined unless or until sold. An alternative strategy to determine the base value of each houses is, divide houses of similar specs into groups including both sold and unsold houses using unsupervised classification. In other words, automatize county assessor job through machine learning. Anyway, the correlation between the property tax and last sold price is much weaker than the previous comparison."
   ]
  },
  {
   "cell_type": "code",
   "execution_count": 12,
   "metadata": {},
   "outputs": [
    {
     "data": {
      "text/plain": [
       "(0, 10000)"
      ]
     },
     "execution_count": 12,
     "metadata": {},
     "output_type": "execute_result"
    },
    {
     "data": {
      "image/png": "[encoded data removed]",
      "text/plain": [
       "<matplotlib.figure.Figure at 0xbac6650>"
      ]
     },
     "metadata": {},
     "output_type": "display_data"
    }
   ],
   "source": [
    "plt.scatter(df['Zestimate'], df['propTax'], s=1)\n",
    "plt.xlabel('Zestimate')\n",
    "plt.ylabel('property tax')\n",
    "plt.xlim(0, 1500000)\n",
    "plt.ylim(0, 10000)"
   ]
  },
  {
   "cell_type": "markdown",
   "metadata": {},
   "source": [
    "'Zestimate' (estimate provided by Zillow with some unknown algorithm) doesn't help a lot."
   ]
  },
  {
   "cell_type": "code",
   "execution_count": 13,
   "metadata": {},
   "outputs": [
    {
     "data": {
      "text/plain": [
       "Text(0,0.5,'tax assessment')"
      ]
     },
     "execution_count": 13,
     "metadata": {},
     "output_type": "execute_result"
    },
    {
     "data": {
      "image/png": "[encoded data removed]",
      "text/plain": [
       "<matplotlib.figure.Figure at 0xcbe4870>"
      ]
     },
     "metadata": {},
     "output_type": "display_data"
    }
   ],
   "source": [
    "plt.scatter(df['lastSoldPrice'], df['taxAssessment'], s=1)\n",
    "plt.xlabel('last sold price')\n",
    "plt.ylabel('tax assessment')\n",
    "# plt.xlim(0, 1500000)\n",
    "# plt.ylim(0, 1500000)"
   ]
  },
  {
   "cell_type": "markdown",
   "metadata": {},
   "source": [
    "Tax assessment vs. last sold price has quite strong correlations. Combined with the observations above, it seems that the base value of each house is reasonably estimated, but the property taxes are calculated incorrectly."
   ]
  },
  {
   "cell_type": "code",
   "execution_count": 14,
   "metadata": {},
   "outputs": [
    {
     "data": {
      "text/plain": [
       "Text(0,0.5,'last sold price')"
      ]
     },
     "execution_count": 14,
     "metadata": {},
     "output_type": "execute_result"
    },
    {
     "data": {
      "image/png": "[encoded data removed]",
      "text/plain": [
       "<matplotlib.figure.Figure at 0xcc2f590>"
      ]
     },
     "metadata": {},
     "output_type": "display_data"
    }
   ],
   "source": [
    "plt.scatter(df['finishedSqFt'], df['lastSoldPrice'], s=1)\n",
    "plt.xlabel('finished Sq. Ft.')\n",
    "plt.ylabel('last sold price')"
   ]
  },
  {
   "cell_type": "markdown",
   "metadata": {},
   "source": [
    "House square footage doesn't seem to be the main factor in determining house price, unlike my expectation."
   ]
  },
  {
   "cell_type": "code",
   "execution_count": 15,
   "metadata": {},
   "outputs": [
    {
     "data": {
      "text/plain": [
       "Text(0,0.5,'last sold price')"
      ]
     },
     "execution_count": 15,
     "metadata": {},
     "output_type": "execute_result"
    },
    {
     "data": {
      "image/png": "[encoded data removed]",
      "text/plain": [
       "<matplotlib.figure.Figure at 0xcbecb70>"
      ]
     },
     "metadata": {},
     "output_type": "display_data"
    }
   ],
   "source": [
    "df['total_rooms'] = df['bedrooms'] + df['bathrooms']\n",
    "plt.scatter(df['total_rooms'], df['lastSoldPrice'], s=1)\n",
    "plt.xlabel('total number of rooms')\n",
    "plt.ylabel('last sold price')"
   ]
  },
  {
   "cell_type": "markdown",
   "metadata": {},
   "source": [
    "Total number of rooms seems to be a better factor than the house square footage."
   ]
  }
 ],
 "metadata": {
  "kernelspec": {
   "display_name": "Python 3",
   "language": "python",
   "name": "python3"
  },
  "language_info": {
   "codemirror_mode": {
    "name": "ipython",
    "version": 3
   },
   "file_extension": ".py",
   "mimetype": "text/x-python",
   "name": "python",
   "nbconvert_exporter": "python",
   "pygments_lexer": "ipython3",
   "version": "3.6.3"
  }
 },
 "nbformat": 4,
 "nbformat_minor": 2
}

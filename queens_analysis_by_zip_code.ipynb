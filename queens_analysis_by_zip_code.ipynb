{
 "cells": [
  {
   "cell_type": "code",
   "execution_count": 1,
   "metadata": {},
   "outputs": [],
   "source": [
    "%matplotlib inline\n",
    "import pandas as pd\n",
    "import os\n",
    "from scipy import stats\n",
    "import matplotlib.pyplot as plt\n",
    "os.chdir('C:\\\\Users\\\\ckkim\\\\Desktop\\\\Misc')"
   ]
  },
  {
   "cell_type": "code",
   "execution_count": 2,
   "metadata": {},
   "outputs": [],
   "source": [
    "def parse_data(zip):\n",
    "    source_file_name = str(zip) + '.csv'\n",
    "\n",
    "    df = pd.read_csv(source_file_name, encoding = \"ISO-8859-1\")\n",
    "    if zip == 11367:\n",
    "        df = df.drop(df.index[0])\n",
    "    df['city'] = df['address'].str.split(',').str[1]\n",
    "    df['zip_code'] = df['address'].str[-6:-1].astype(int)\n",
    "    df['address'] = df['address'].str.split(',').str[0]\n",
    "    df['bedrooms'] = df['room_size_info'].str.split(' ').str[0]\n",
    "    df['bathrooms'] = df['room_size_info'].str.split(' ').str[-4]\n",
    "    df['sqft'] = df['room_size_info'].str.split(' ').str[-2]\n",
    "    df['price'] = df['home_summary'].str.extract('Sold: (.*)  Sold', expand = False)\n",
    "    df['date'] = df['home_summary'].str.split('Sold on  ').str[1].str[:8]\n",
    "    df['year_built'] = df['facts'].str.extract('(\\d+)', expand = False)\n",
    "    df['tax'] = df['description_text'].str.extract('The property tax in 2017 was (.*). The', expand = False)\n",
    "    df['tax_assessment'] = df['description_text'].str.extract('The tax assessment in 2017 was (.*), a', expand = False)\n",
    "    df['rent_est'] = df['description_text'].str.split('Rent Zestimate for this home is ').str[1].str.split('/mo').str[0]\n",
    "    df['tax'] = df['tax'].str.split('. The').str[0]\n",
    "    df = df[df['tax'].notnull()]\n",
    "    df['tax'] = df['tax'].str.split('$').str[1].str.replace(',','').astype(int)\n",
    "    df = df[df['price'].notnull()]\n",
    "    df['price'] = df['price'].str.split('$').str[1].str.replace(',','').astype(int)\n",
    "    df = df[df['price'].astype(int) > 10000]\n",
    "    df = df[df['sqft'] != '--']\n",
    "    df['sqft'] = df['sqft'].fillna('0,0')\n",
    "    df['sqft'] = df['sqft'].str.replace(',','').str.extract('(\\d+)', expand = False).astype(int)\n",
    "    df = df.drop(['Unnamed: 0', 'pptyID', 'address', 'room_size_info', 'home_summary', 'facts', 'description_text', 'city', 'zip_code', 'bedrooms', 'bathrooms', 'date', 'year_built', 'tax_assessment', 'rent_est'], axis = 1)\n",
    "\n",
    "    x = df['price']\n",
    "    y = df['tax']\n",
    "    slope, intercept, r_value, p_value, std_err = stats.linregress(x, y)\n",
    "#     print('zip code: ', zip)\n",
    "#     print('number of houses: ', df.__len__())\n",
    "#     print('correlation: ', x.corr(y))    \n",
    "#     print('coeff of determination: ', r_value**2)\n",
    "#     plt.scatter(x, y, s=1)\n",
    "#     plt.xlabel('sold price')\n",
    "#     plt.ylabel('property tax')\n",
    "#     plt.xlim(0, 1000000)\n",
    "#     plt.ylim(0, 10000)\n",
    "    return df.__len__(), x.corr(y), r_value**2"
   ]
  },
  {
   "cell_type": "code",
   "execution_count": 3,
   "metadata": {},
   "outputs": [],
   "source": [
    "zip = [11004, 11101, 11102, 11103, 11104, 11105, 11106, 11354, 11355, 11356, 11357, 11358, 11360, 11361, 11362, 11363, 11364, 11365, 11366, 11367, 11368, 11375, 11379, 11385, 11411, 11412, 11413, 11415, 11416, 11417, 11418, 11419, 11420, 11421, 11422, 11423, 11426, 11427, 11428, 11429, 11432, 11433, 11434, 11435, 11436, 11691, 11692, 11693, 11694]\n",
    "column_names = ['zip', 'houses', 'correl', 'cod']\n",
    "res = pd.DataFrame(columns = column_names)\n",
    "for each_zip in zip:\n",
    "    houses, correl, cod = parse_data(each_zip)\n",
    "    res = res.append(pd.DataFrame([[each_zip, houses, correl, cod]], columns = column_names))\n",
    "res['zip'] = res['zip'].astype(int)\n",
    "res['houses'] = res['houses'].astype(int)"
   ]
  },
  {
   "cell_type": "code",
   "execution_count": 4,
   "metadata": {},
   "outputs": [
    {
     "data": {
      "text/plain": [
       "0.929801535316344"
      ]
     },
     "execution_count": 4,
     "metadata": {},
     "output_type": "execute_result"
    }
   ],
   "source": [
    "res['correl'].corr(res['cod'])"
   ]
  },
  {
   "cell_type": "code",
   "execution_count": 5,
   "metadata": {},
   "outputs": [
    {
     "data": {
      "text/plain": [
       "Text(0.5,0,'[correlation] tax vs. home price')"
      ]
     },
     "execution_count": 5,
     "metadata": {},
     "output_type": "execute_result"
    },
    {
     "data": {
      "image/png": "[encoded data removed]",
      "text/plain": [
       "<Figure size 432x288 with 1 Axes>"
      ]
     },
     "metadata": {},
     "output_type": "display_data"
    }
   ],
   "source": [
    "res['correl'].plot.hist()\n",
    "plt.xlabel('[correlation] tax vs. home price')"
   ]
  },
  {
   "cell_type": "code",
   "execution_count": 6,
   "metadata": {},
   "outputs": [
    {
     "data": {
      "text/plain": [
       "Text(0.5,0,'[coeff. of det. in LinReg] tax vs. home price')"
      ]
     },
     "execution_count": 6,
     "metadata": {},
     "output_type": "execute_result"
    },
    {
     "data": {
      "image/png": "[encoded data removed]",
      "text/plain": [
       "<Figure size 432x288 with 1 Axes>"
      ]
     },
     "metadata": {},
     "output_type": "display_data"
    }
   ],
   "source": [
    "res['cod'].plot.hist()\n",
    "plt.xlabel('[coeff. of det. in LinReg] tax vs. home price')"
   ]
  }
 ],
 "metadata": {
  "kernelspec": {
   "display_name": "Python 3",
   "language": "python",
   "name": "python3"
  },
  "language_info": {
   "codemirror_mode": {
    "name": "ipython",
    "version": 3
   },
   "file_extension": ".py",
   "mimetype": "text/x-python",
   "name": "python",
   "nbconvert_exporter": "python",
   "pygments_lexer": "ipython3",
   "version": "3.6.3"
  }
 },
 "nbformat": 4,
 "nbformat_minor": 2
}
